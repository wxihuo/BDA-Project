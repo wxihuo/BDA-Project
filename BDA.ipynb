{
 "cells": [
  {
   "cell_type": "markdown",
   "id": "96922d30",
   "metadata": {},
   "source": [
    "## Data Mining, Text Mining and Big Data Analytics\n",
    "### BDA Project + mini project with extra 3 CFUs\n",
    "### Wenxi Huo_1035935\n",
    "### wenxi.huo@studio.unibo.it"
   ]
  },
  {
   "cell_type": "markdown",
   "id": "ac868007",
   "metadata": {},
   "source": [
    "The dataset named Black Friday Sales contains customer demographics (age, gender, marital status, city type, stay_in_current_city), product details (product_id and product category), and Total purchase amount. In the project, the specific content is as follow:\n",
    "\n",
    "1. Read and clean the data\n",
    "2. Exploratory Data Analysis\n",
    "* 2.1 What are the top products?\n",
    "* 2.2 How does age also affect the purchases?\n",
    "* 2.3 How does gender affect the purchases?\n",
    "* 2.4 What is the relationship between the occupation and the purchases?\n",
    "3. Based on all the data, train the classifier model with the occupation as the label: \n",
    "* a.StringIndexer  \n",
    "* b.VectorAssembler\n",
    "* c.KMeans\n",
    "* d.DecisionTreeClassifier  \n",
    "* e.RandomForestClassifier\n",
    "* f.MulticlassClassificationEvaluator\n",
    "\n",
    "#### For the mini project(3cfu):\n",
    "1. Compare the relationship between different categorial variables with product_category purchased.\n",
    "2. Calculate the similarity between different product_category by: \n",
    "3. Regression algorithm prediction of purchases:\n",
    "* a. LinearRegressor \n",
    "* b.DecisionTreeRegressor \n",
    "* c.RandomForestRegressor \n",
    "* d.Regression Evaluator"
   ]
  },
  {
   "cell_type": "markdown",
   "id": "7a7ac83b",
   "metadata": {},
   "source": [
    "### Import necessary libraries"
   ]
  },
  {
   "cell_type": "code",
   "execution_count": 118,
   "id": "c95906a1",
   "metadata": {},
   "outputs": [],
   "source": [
    "from pyspark.sql import SparkSession\n",
    "from pyspark.sql import DataFrame\n",
    "from pyspark.ml import Pipeline \n",
    "from pyspark.ml.clustering import KMeans   \n",
    "from pyspark.ml.feature import StringIndexer, StandardScaler, VectorAssembler\n",
    "from pyspark.ml.classification import DecisionTreeClassifier, RandomForestClassifier\n",
    "from pyspark.ml.regression import LinearRegression, DecisionTreeRegressor, RandomForestRegressor\n",
    "from pyspark.ml.evaluation import RegressionEvaluator, MulticlassClassificationEvaluator,ClusteringEvaluator\n",
    "from pyspark.sql.functions import col, when\n",
    "import matplotlib.pyplot as plt  \n",
    "import numpy as np  \n",
    "import seaborn as sns "
   ]
  },
  {
   "cell_type": "code",
   "execution_count": 2,
   "id": "d8b09eb1",
   "metadata": {},
   "outputs": [],
   "source": [
    "# Initialize a SparkSession.\n",
    "spark = SparkSession.builder.appName(\"BlackFridaySalesAnalysis\").config(\"spark.sql.legacy.timeParserPolicy\", \"LEGACY\").getOrCreate()"
   ]
  },
  {
   "cell_type": "markdown",
   "id": "af228dc8",
   "metadata": {},
   "source": [
    "### Data Preparation and Pre-processing"
   ]
  },
  {
   "cell_type": "code",
   "execution_count": 174,
   "id": "e2bf77ab",
   "metadata": {},
   "outputs": [
    {
     "name": "stdout",
     "output_type": "stream",
     "text": [
      "root\n",
      " |-- User_ID: integer (nullable = true)\n",
      " |-- Product_ID: string (nullable = true)\n",
      " |-- Gender: string (nullable = true)\n",
      " |-- Age: string (nullable = true)\n",
      " |-- Occupation: integer (nullable = true)\n",
      " |-- City_Category: string (nullable = true)\n",
      " |-- Stay_In_Current_City_Years: string (nullable = true)\n",
      " |-- Marital_Status: integer (nullable = true)\n",
      " |-- Product_Category_1: integer (nullable = true)\n",
      " |-- Product_Category_2: integer (nullable = true)\n",
      " |-- Product_Category_3: integer (nullable = true)\n",
      " |-- Purchase: integer (nullable = true)\n",
      "\n"
     ]
    }
   ],
   "source": [
    "#Read csv data files \n",
    "data = spark.read.csv(\"train.csv\", header=True, inferSchema=True)\n",
    "data.printSchema()"
   ]
  },
  {
   "cell_type": "code",
   "execution_count": 173,
   "id": "f6583f6b",
   "metadata": {},
   "outputs": [
    {
     "name": "stdout",
     "output_type": "stream",
     "text": [
      "+-------+----------+------+----+----------+-------------+--------------------------+--------------+------------------+------------------+------------------+--------+\n",
      "|User_ID|Product_ID|Gender| Age|Occupation|City_Category|Stay_In_Current_City_Years|Marital_Status|Product_Category_1|Product_Category_2|Product_Category_3|Purchase|\n",
      "+-------+----------+------+----+----------+-------------+--------------------------+--------------+------------------+------------------+------------------+--------+\n",
      "|1000001| P00069042|     F|0-17|        10|            A|                         2|             0|                 3|              NULL|              NULL|    8370|\n",
      "|1000001| P00248942|     F|0-17|        10|            A|                         2|             0|                 1|                 6|                14|   15200|\n",
      "|1000001| P00087842|     F|0-17|        10|            A|                         2|             0|                12|              NULL|              NULL|    1422|\n",
      "|1000001| P00085442|     F|0-17|        10|            A|                         2|             0|                12|                14|              NULL|    1057|\n",
      "|1000002| P00285442|     M| 55+|        16|            C|                        4+|             0|                 8|              NULL|              NULL|    7969|\n",
      "+-------+----------+------+----+----------+-------------+--------------------------+--------------+------------------+------------------+------------------+--------+\n",
      "only showing top 5 rows\n",
      "\n"
     ]
    }
   ],
   "source": [
    "data.show(5)"
   ]
  },
  {
   "cell_type": "code",
   "execution_count": 5,
   "id": "9a8bacdd",
   "metadata": {},
   "outputs": [
    {
     "name": "stdout",
     "output_type": "stream",
     "text": [
      "+------------------+---------------------+-----------------+--------------+---------------------+------------------------+-------------------------------------+-------------------------+-----------------------------+-----------------------------+-----------------------------+-------------------+\n",
      "|User_ID_null_count|Product_ID_null_count|Gender_null_count|Age_null_count|Occupation_null_count|City_Category_null_count|Stay_In_Current_City_Years_null_count|Marital_Status_null_count|Product_Category_1_null_count|Product_Category_2_null_count|Product_Category_3_null_count|Purchase_null_count|\n",
      "+------------------+---------------------+-----------------+--------------+---------------------+------------------------+-------------------------------------+-------------------------+-----------------------------+-----------------------------+-----------------------------+-------------------+\n",
      "|           1000001|            P00069042|                F|          0-17|                   10|                       A|                                    2|                        0|                            3|                         NULL|                         NULL|               8370|\n",
      "|           1000001|            P00248942|                F|          0-17|                   10|                       A|                                    2|                        0|                            1|                            6|                           14|              15200|\n",
      "|           1000001|            P00087842|                F|          0-17|                   10|                       A|                                    2|                        0|                           12|                         NULL|                         NULL|               1422|\n",
      "|           1000001|            P00085442|                F|          0-17|                   10|                       A|                                    2|                        0|                           12|                           14|                         NULL|               1057|\n",
      "|           1000002|            P00285442|                M|           55+|                   16|                       C|                                   4+|                        0|                            8|                         NULL|                         NULL|               7969|\n",
      "+------------------+---------------------+-----------------+--------------+---------------------+------------------------+-------------------------------------+-------------------------+-----------------------------+-----------------------------+-----------------------------+-------------------+\n",
      "only showing top 5 rows\n",
      "\n"
     ]
    }
   ],
   "source": [
    "# Check rows which has null values\n",
    "null_counts = data.select([col(column).alias(column + \"_null_count\") for column in data.columns])\n",
    "null_counts.show(5)"
   ]
  },
  {
   "cell_type": "markdown",
   "id": "ce239543",
   "metadata": {},
   "source": [
    "By reviewing our data, we found that those missing values are cells that were left empty on purpose, \n",
    "because they represent cases in which the product didn't belong to either both or one of the \n",
    "other product categories (Product_Category_2 or Product_Category_3) which is the majority cases.\n",
    "So, we're going to fill them with the value of zero (0)."
   ]
  },
  {
   "cell_type": "code",
   "execution_count": 6,
   "id": "e437dfa8",
   "metadata": {},
   "outputs": [
    {
     "name": "stdout",
     "output_type": "stream",
     "text": [
      "+-------+----------+------+----+----------+-------------+--------------------------+--------------+------------------+------------------+------------------+--------+\n",
      "|User_ID|Product_ID|Gender| Age|Occupation|City_Category|Stay_In_Current_City_Years|Marital_Status|Product_Category_1|Product_Category_2|Product_Category_3|Purchase|\n",
      "+-------+----------+------+----+----------+-------------+--------------------------+--------------+------------------+------------------+------------------+--------+\n",
      "|1000001| P00069042|     F|0-17|        10|            A|                         2|             0|                 3|                 0|                 0|    8370|\n",
      "|1000001| P00248942|     F|0-17|        10|            A|                         2|             0|                 1|                 6|                14|   15200|\n",
      "|1000001| P00087842|     F|0-17|        10|            A|                         2|             0|                12|                 0|                 0|    1422|\n",
      "|1000001| P00085442|     F|0-17|        10|            A|                         2|             0|                12|                14|                 0|    1057|\n",
      "|1000002| P00285442|     M| 55+|        16|            C|                        4+|             0|                 8|                 0|                 0|    7969|\n",
      "+-------+----------+------+----+----------+-------------+--------------------------+--------------+------------------+------------------+------------------+--------+\n",
      "only showing top 5 rows\n",
      "\n"
     ]
    }
   ],
   "source": [
    "# Fill the missing values with zero\n",
    "df_filled = data.na.fill(0)\n",
    "df_filled.show(5)"
   ]
  },
  {
   "cell_type": "markdown",
   "id": "5ef41f42",
   "metadata": {},
   "source": [
    "### Exploratory Data Analysis"
   ]
  },
  {
   "cell_type": "code",
   "execution_count": 7,
   "id": "e49f534a",
   "metadata": {},
   "outputs": [
    {
     "name": "stdout",
     "output_type": "stream",
     "text": [
      "+----------+-------------+\n",
      "|Product_ID|sum(Purchase)|\n",
      "+----------+-------------+\n",
      "| P00025442|     27995166|\n",
      "| P00110742|     26722309|\n",
      "| P00255842|     25168963|\n",
      "| P00059442|     24338343|\n",
      "| P00184942|     24334887|\n",
      "| P00112142|     24216006|\n",
      "| P00110942|     23639564|\n",
      "| P00237542|     23425576|\n",
      "| P00057642|     23102780|\n",
      "| P00010742|     22164153|\n",
      "+----------+-------------+\n",
      "only showing top 10 rows\n",
      "\n"
     ]
    }
   ],
   "source": [
    " # 1.What are the top10 products?\n",
    "top_products = data.groupBy(\"Product_ID\").agg({\"Purchase\": \"sum\"}).orderBy(col(\"sum(Purchase)\").desc())  \n",
    "top_products.show(10)  "
   ]
  },
  {
   "cell_type": "markdown",
   "id": "e64682df",
   "metadata": {},
   "source": [
    "We can see the top 10 products above."
   ]
  },
  {
   "cell_type": "code",
   "execution_count": 8,
   "id": "b7d2f266",
   "metadata": {},
   "outputs": [
    {
     "name": "stdout",
     "output_type": "stream",
     "text": [
      "+-----+-------------+\n",
      "|  Age|sum(Purchase)|\n",
      "+-----+-------------+\n",
      "| 0-17|    134913183|\n",
      "|18-25|    913848675|\n",
      "|26-35|   2031770578|\n",
      "|36-45|   1026569884|\n",
      "|46-50|    420843403|\n",
      "|51-55|    367099644|\n",
      "|  55+|    200767375|\n",
      "+-----+-------------+\n",
      "\n"
     ]
    }
   ],
   "source": [
    "# 2. How does age affect the purchases? \n",
    "age_purchase = data.groupBy(\"Age\").agg({\"Purchase\": \"sum\"}).orderBy(\"Age\")  \n",
    "age_purchase.show() "
   ]
  },
  {
   "cell_type": "code",
   "execution_count": 175,
   "id": "271ff65e",
   "metadata": {},
   "outputs": [
    {
     "data": {
      "image/png": "[encoded data removed]",
      "text/plain": [
       "<Figure size 432x288 with 1 Axes>"
      ]
     },
     "metadata": {},
     "output_type": "display_data"
    }
   ],
   "source": [
    "age_purchase_collected = age_purchase.collect()   \n",
    "ages = [row[0] for row in age_purchase_collected]  \n",
    "purchase_sum = [row[1] for row in age_purchase_collected]  \n",
    "   \n",
    "ages_str = [str(age) for age in ages]  \n",
    "   \n",
    "fig, ax = plt.subplots()  \n",
    "ax.pie(purchase_sum, labels=ages_str, autopct='%1.1f%%', startangle=90)  \n",
    "ax.axis('equal')   \n",
    "plt.title(\"Purchase by Age Group\")   \n",
    "plt.show()"
   ]
  },
  {
   "cell_type": "markdown",
   "id": "036a3952",
   "metadata": {},
   "source": [
    "We can see that the majority are for people aging between 26-35 being the most buyers with about 40% of total purchases."
   ]
  },
  {
   "cell_type": "code",
   "execution_count": 10,
   "id": "5100cd4d",
   "metadata": {},
   "outputs": [
    {
     "name": "stdout",
     "output_type": "stream",
     "text": [
      "+------+-------------+\n",
      "|gender|sum(Purchase)|\n",
      "+------+-------------+\n",
      "|     F|   1186232642|\n",
      "|     M|   3909580100|\n",
      "+------+-------------+\n",
      "\n"
     ]
    }
   ],
   "source": [
    "#3.  How does gender affect the purchases? \n",
    "gender_purchase = data.groupBy(\"gender\").agg({\"Purchase\": \"sum\"})  \n",
    "gender_purchase.show() "
   ]
  },
  {
   "cell_type": "code",
   "execution_count": 11,
   "id": "7d7430c6",
   "metadata": {},
   "outputs": [
    {
     "data": {
      "image/png": "[encoded data removed]",
      "text/plain": [
       "<Figure size 432x288 with 1 Axes>"
      ]
     },
     "metadata": {},
     "output_type": "display_data"
    }
   ],
   "source": [
    "gender_purchase_collected = gender_purchase.collect()  \n",
    "gen = [row[0] for row in gender_purchase_collected]  \n",
    "gender_sum = [row[1] for row in gender_purchase_collected]  \n",
    "    \n",
    "gender_str = [str(gender) for gender in gen]    \n",
    "fig, ax = plt.subplots()  \n",
    "ax.pie(gender_sum, labels=gender_str, autopct='%1.1f%%', startangle=90)  \n",
    "ax.axis('equal')  \n",
    "plt.title(\"Purchase by Gender Group\")   \n",
    "plt.show()"
   ]
  },
  {
   "cell_type": "markdown",
   "id": "b31715f8",
   "metadata": {},
   "source": [
    "We can see that the majority of the purchases that have been done is by the males."
   ]
  },
  {
   "cell_type": "code",
   "execution_count": 179,
   "id": "d2821b90",
   "metadata": {},
   "outputs": [
    {
     "data": {
      "image/png": "[encoded data removed]",
      "text/plain": [
       "<Figure size 1440x1080 with 1 Axes>"
      ]
     },
     "metadata": {
      "needs_background": "light"
     },
     "output_type": "display_data"
    }
   ],
   "source": [
    "# 4. the relationship between the occupation and the purchases  \n",
    "occ_purchases = (data  \n",
    "                 .groupBy(\"Occupation\")  \n",
    "                 .agg({\"Purchase\": \"sum\"})  \n",
    "                 .withColumnRenamed(\"sum(Purchase)\", \"TotalPurchase\")  \n",
    "                 .orderBy(\"TotalPurchase\", ascending=False)   \n",
    "                )  \n",
    "\n",
    "local_data = occ_purchases.toPandas() \n",
    "local_data_sorted = local_data.sort_values(by=\"TotalPurchase\", ascending=False) \n",
    "  \n",
    "plt.figure(figsize=(20, 15))  \n",
    "plt.bar(local_data_sorted[\"Occupation\"], local_data_sorted[\"TotalPurchase\"], color=('red', 'green', 'blue'))  \n",
    "plt.xticks(rotation=45, fontsize=15)  \n",
    "plt.yticks(fontsize=15)  \n",
    "plt.xlabel(\"Occupation\", fontsize=15)  \n",
    "plt.ylabel(\"Purchase\", fontsize=15)  \n",
    "plt.title('Total Purchases by Occupation', color='black', fontsize=20) \n",
    "  \n",
    "#for i, row in local_data_sorted.iterrows():  \n",
    " #   plt.text(i, row[\"TotalPurchase\"], '$' + str(row[\"TotalPurchase\"]), fontsize=15, rotation=45, color='k', ha='center', va='bottom')  \n",
    "plt.show()  "
   ]
  },
  {
   "cell_type": "markdown",
   "id": "25eeb77c",
   "metadata": {},
   "source": [
    "We noticed that the top 3 occupations with the most purchases are descendingly: 4, 0, then 7."
   ]
  },
  {
   "cell_type": "code",
   "execution_count": 181,
   "id": "6e25cf04",
   "metadata": {},
   "outputs": [
    {
     "name": "stdout",
     "output_type": "stream",
     "text": [
      "+------------------+\n",
      "| Purchase_Category|\n",
      "+------------------+\n",
      "|   Less Than 10000|\n",
      "|Greater Than 15000|\n",
      "|    Less Than 5000|\n",
      "|    Less Than 5000|\n",
      "|   Less Than 10000|\n",
      "|Greater Than 15000|\n",
      "|Greater Than 15000|\n",
      "|Greater Than 15000|\n",
      "|Greater Than 15000|\n",
      "|   Less Than 10000|\n",
      "+------------------+\n",
      "only showing top 10 rows\n",
      "\n"
     ]
    }
   ],
   "source": [
    "#Feature Engineering to convert Purchase into Category \n",
    "#Sort according to the value of 'Purchase' \n",
    "df = df_filled.withColumn(  \n",
    "    \"Purchase_Category\",  \n",
    "    when(col(\"Purchase\") <= 1000, 'Less Than 1000')  \n",
    "    .when((col(\"Purchase\") > 1000) & (col(\"Purchase\") <= 5000), 'Less Than 5000')  \n",
    "    .when((col(\"Purchase\") > 5000) & (col(\"Purchase\") <= 10000), 'Less Than 10000')  \n",
    "    .when((col(\"Purchase\") > 10000) & (col(\"Purchase\") <= 15000), 'Less Than 15000')  \n",
    "    .otherwise('Greater Than 15000')  \n",
    ")   \n",
    "df.select(['Purchase_Category']).show(10)"
   ]
  },
  {
   "cell_type": "code",
   "execution_count": 14,
   "id": "b81ebdf9",
   "metadata": {},
   "outputs": [
    {
     "name": "stdout",
     "output_type": "stream",
     "text": [
      "+------+----------+-------------+--------------------------+--------------+----+------------------+\n",
      "|Gender|Occupation|City_Category|Stay_In_Current_City_Years|Marital_Status| Age| Purchase_Category|\n",
      "+------+----------+-------------+--------------------------+--------------+----+------------------+\n",
      "|     F|        10|            A|                         2|             0|0-17|   Less Than 10000|\n",
      "|     F|        10|            A|                         2|             0|0-17|Greater Than 15000|\n",
      "|     F|        10|            A|                         2|             0|0-17|    Less Than 5000|\n",
      "|     F|        10|            A|                         2|             0|0-17|    Less Than 5000|\n",
      "|     M|        16|            C|                        4+|             0| 55+|   Less Than 10000|\n",
      "+------+----------+-------------+--------------------------+--------------+----+------------------+\n",
      "only showing top 5 rows\n",
      "\n"
     ]
    }
   ],
   "source": [
    "# Select the specific columns and create a new DataFrame  \n",
    "selected_df = df.select(  \n",
    "    'Gender', 'Occupation', 'City_Category',  \n",
    "    'Stay_In_Current_City_Years', 'Marital_Status', 'Age', 'Purchase_Category'  \n",
    ")   \n",
    "selected_df.show(5)  "
   ]
  },
  {
   "cell_type": "code",
   "execution_count": 22,
   "id": "5f38de6b",
   "metadata": {},
   "outputs": [],
   "source": [
    "# splitting data into x and y\n",
    "#x= df[[ 'Gender', 'Occupation', 'City_Category',\n",
    " #      'Stay_In_Current_City_Years', 'Marital_Status', 'Age']]\n",
    "#y= df[['Purchase_Category']]\n",
    "#y.show()"
   ]
  },
  {
   "cell_type": "markdown",
   "id": "6195e4db",
   "metadata": {},
   "source": [
    "#### Train the classifier model with the occupation as the label"
   ]
  },
  {
   "cell_type": "code",
   "execution_count": 100,
   "id": "a98aea77",
   "metadata": {},
   "outputs": [
    {
     "name": "stdout",
     "output_type": "stream",
     "text": [
      "+----+\n",
      "| Occ|\n",
      "+----+\n",
      "|12.0|\n",
      "|12.0|\n",
      "|12.0|\n",
      "|12.0|\n",
      "| 9.0|\n",
      "+----+\n",
      "only showing top 5 rows\n",
      "\n"
     ]
    }
   ],
   "source": [
    "#Classifier \n",
    "\n",
    "occu_indexer = StringIndexer(inputCol=\"Occupation\", outputCol=\"Occ\")\n",
    "gender_indexer = StringIndexer(inputCol=\"Gender\", outputCol=\"Gender_n\")  \n",
    "city_category_indexer = StringIndexer(inputCol=\"City_Category\", outputCol=\"City_Category_n\")  \n",
    "stay_years_indexer = StringIndexer(inputCol=\"Stay_In_Current_City_Years\", outputCol=\"Stay_In_Current_City_Years_n\")  \n",
    "purchase_category_indexer = StringIndexer(inputCol=\"Purchase_Category\", outputCol=\"Cat\")\n",
    "  \n",
    "pipeline = Pipeline(stages=[occu_indexer,gender_indexer, city_category_indexer, stay_years_indexer,purchase_category_indexer])    \n",
    "df_c = pipeline.fit(selected_df).transform(selected_df)  \n",
    "  \n",
    "#df_c.show(10)\n",
    "df_c.select(['Occ']).show(5)"
   ]
  },
  {
   "cell_type": "markdown",
   "id": "b40c0442",
   "metadata": {},
   "source": [
    "The Pipeline allows us to combine multiple data processing steps into a single stage. That means we can complete multiple preprocessing tasks in one step without having to execute each step separately. Not only simplifies the code but also improves execution efficiency."
   ]
  },
  {
   "cell_type": "code",
   "execution_count": 111,
   "id": "f05ffee6",
   "metadata": {},
   "outputs": [
    {
     "name": "stdout",
     "output_type": "stream",
     "text": [
      "+--------------------+----+\n",
      "|            features| Occ|\n",
      "+--------------------+----+\n",
      "|[0.0,0.0,1.0,2.0,...|12.0|\n",
      "|[1.0,0.0,1.0,2.0,...|12.0|\n",
      "|[2.0,0.0,1.0,2.0,...|12.0|\n",
      "+--------------------+----+\n",
      "only showing top 3 rows\n",
      "\n"
     ]
    }
   ],
   "source": [
    "assembler = VectorAssembler(inputCols=['Cat','Marital_Status','Gender_n','City_Category_n','Stay_In_Current_City_Years_n'], outputCol=\"features\")  \n",
    "output_c = assembler.transform(df_c).select(['features','Occ']) \n",
    "output_c.show(3)"
   ]
  },
  {
   "cell_type": "code",
   "execution_count": 110,
   "id": "734af1eb",
   "metadata": {},
   "outputs": [
    {
     "name": "stdout",
     "output_type": "stream",
     "text": [
      "+--------------------+----+\n",
      "|      normFeatures_c| Occ|\n",
      "+--------------------+----+\n",
      "|[0.0,0.0,2.319080...|12.0|\n",
      "|[0.84697110522504...|12.0|\n",
      "|[1.69394221045009...|12.0|\n",
      "+--------------------+----+\n",
      "only showing top 3 rows\n",
      "\n"
     ]
    }
   ],
   "source": [
    "#Normalize\n",
    "normaliser = StandardScaler(inputCol=\"features\", outputCol=\"normFeatures_c\")\n",
    "normModel_c = normaliser.fit(output_c)\n",
    "norm_c = normModel.transform(output_c)\n",
    "features_norm_c = norm_c.select([\"normFeatures_c\", \"Occ\"])\n",
    "features_norm_c.show(3)"
   ]
  },
  {
   "cell_type": "code",
   "execution_count": 112,
   "id": "e23d443b",
   "metadata": {},
   "outputs": [],
   "source": [
    "# Separate the dataset into training set and testset\n",
    "training_data_c, test_data_c = features_norm_c.randomSplit([0.7, 0.3],seed=15) "
   ]
  },
  {
   "cell_type": "code",
   "execution_count": 126,
   "id": "e0755f71",
   "metadata": {},
   "outputs": [
    {
     "name": "stdout",
     "output_type": "stream",
     "text": [
      "The 3 characteristic values of features are: [array([0.24081619, 0.41652057, 0.26477973, 0.82855554, 0.65140432]), array([0.98479808, 0.39673784, 0.22105865, 0.88345384, 3.31150073]), array([2.60402438, 0.41427624, 0.2479251 , 0.83773874, 0.77664614])]\n",
      "Silhouette Score of KMeans: 0.48954608107693387\n"
     ]
    }
   ],
   "source": [
    "#Build KMeans model\n",
    "#a. Kmeans  \n",
    "k = 3  \n",
    "kmeans = KMeans().setK(k).setSeed(1).setFeaturesCol(\"features\")  \n",
    "model = kmeans.fit(output_c)  \n",
    "  \n",
    "# Gets the cluster center point  \n",
    "centers = model.clusterCenters()\n",
    "print(\"The 3 characteristic values of features are:\",centers)\n",
    "\n",
    "evaluator = ClusteringEvaluator()\n",
    "silhouette_scorekm = evaluator.evaluate(model.transform(output_c))\n",
    "print(f\"Silhouette Score of KMeans: {silhouette_scorekm}\")"
   ]
  },
  {
   "cell_type": "markdown",
   "id": "82f7bb3e",
   "metadata": {},
   "source": [
    "The Silhouette Score is a metric measures how closely each sample is related to its own cluster and how well-separated it is from other clusters. \n",
    "\n",
    "As shown above, the Silhouette Score of 0.48954608107693387 for KMeans clustering indicates a moderately good but not exceptional clustering performance. This value suggests that most samples are relatively similar to other samples within their own clusters but still have some similarity to neighboring clusters, indicating possible overlap or misclassification."
   ]
  },
  {
   "cell_type": "code",
   "execution_count": 130,
   "id": "8001ac1a",
   "metadata": {},
   "outputs": [],
   "source": [
    "# Build DecisionTreeClassifier model and RandomForestClassifier model  \n",
    "# b. Decision Tree Classifier \n",
    "dt_c = DecisionTreeClassifier(featuresCol=\"normFeatures_c\", labelCol=\"Occ\")  \n",
    "dt_model_c = dt_c.fit(training_data_c)  \n",
    "  \n",
    "# c. Random Forest Classifier \n",
    "rf_c = RandomForestClassifier(featuresCol=\"normFeatures_c\", labelCol=\"Occ\")  \n",
    "rf_model_c = rf_c.fit(training_data_c)  "
   ]
  },
  {
   "cell_type": "code",
   "execution_count": 134,
   "id": "a54a2cc6",
   "metadata": {},
   "outputs": [],
   "source": [
    "# prediction \n",
    "dt_pred_c = dt_model_c.transform(test_data_c)  \n",
    "rf_pred_c = rf_model_c.transform(test_data_c)"
   ]
  },
  {
   "cell_type": "code",
   "execution_count": 137,
   "id": "f79605b5",
   "metadata": {},
   "outputs": [
    {
     "name": "stdout",
     "output_type": "stream",
     "text": [
      "Decision Tree Accuracy: 0.16960594452505115\n",
      "Random Forest Accuracy: 0.16960594452505115\n"
     ]
    }
   ],
   "source": [
    "# Evaluate for DecisionTreeClassifier \n",
    "dt_evaluator = MulticlassClassificationEvaluator(  \n",
    "    labelCol=\"Occ\", predictionCol=\"prediction\", metricName=\"accuracy\")  \n",
    "dt_accuracy = dt_evaluator.evaluate(dt_pred_c)  \n",
    "  \n",
    "#Evaluate for RandomTreeClassifier \n",
    "rf_evaluator = MulticlassClassificationEvaluator(  \n",
    "    labelCol=\"Occ\", predictionCol=\"prediction\", metricName=\"accuracy\")  \n",
    "rf_accuracy = rf_evaluator.evaluate(rf_pred_c)  \n",
    "  \n",
    "print(f\"Decision Tree Accuracy: {dt_accuracy}\")  \n",
    "print(f\"Random Forest Accuracy: {rf_accuracy}\")"
   ]
  },
  {
   "cell_type": "code",
   "execution_count": 157,
   "id": "f69fd9bc",
   "metadata": {},
   "outputs": [
    {
     "name": "stdout",
     "output_type": "stream",
     "text": [
      "+------------------+-------------+\n",
      "|Product_Category_1|sum(Purchase)|\n",
      "+------------------+-------------+\n",
      "|                 1|   1910013754|\n",
      "|                 2|    268516186|\n",
      "|                 3|    204084713|\n",
      "+------------------+-------------+\n",
      "only showing top 3 rows\n",
      "\n",
      "+------------------+-------------+\n",
      "|Product_Category_2|sum(Purchase)|\n",
      "+------------------+-------------+\n",
      "|                 0|   1305531230|\n",
      "|                 2|    670303864|\n",
      "|                 3|     32402777|\n",
      "+------------------+-------------+\n",
      "only showing top 3 rows\n",
      "\n",
      "+------------------+-------------+\n",
      "|Product_Category_3|sum(Purchase)|\n",
      "+------------------+-------------+\n",
      "|                 0|   3150994343|\n",
      "|                 3|      8545034|\n",
      "|                 4|     18364475|\n",
      "+------------------+-------------+\n",
      "only showing top 3 rows\n",
      "\n"
     ]
    }
   ],
   "source": [
    "#Compare the relationship between different categorial variables with product_category purchased.\n",
    "p_purchase_1 = df_filled.groupBy(\"Product_Category_1\").agg({\"Purchase\": \"sum\"}).orderBy(\"Product_Category_1\")  \n",
    "p_purchase_2 = df_filled.groupBy(\"Product_Category_2\").agg({\"Purchase\": \"sum\"}).orderBy(\"Product_Category_2\")\n",
    "p_purchase_3 = df_filled.groupBy(\"Product_Category_3\").agg({\"Purchase\": \"sum\"}).orderBy(\"Product_Category_3\")\n",
    "p_purchase_1.show(3)\n",
    "p_purchase_2.show(3)\n",
    "p_purchase_3.show(3)"
   ]
  },
  {
   "cell_type": "code",
   "execution_count": 155,
   "id": "ba091a9f",
   "metadata": {},
   "outputs": [
    {
     "data": {
      "image/png": "[encoded data removed]",
      "text/plain": [
       "<Figure size 1080x720 with 3 Axes>"
      ]
     },
     "metadata": {
      "needs_background": "light"
     },
     "output_type": "display_data"
    }
   ],
   "source": [
    "p_purchase_1_pd = p_purchase_1.toPandas()  \n",
    "p_purchase_2_pd = p_purchase_2.toPandas()  \n",
    "p_purchase_3_pd = p_purchase_3.toPandas()  \n",
    "  \n",
    "plt.figure(figsize=(15, 10))  \n",
    "  \n",
    "plt.subplot(3, 1, 1)   \n",
    "plt.bar(p_purchase_1_pd[\"Product_Category_1\"], p_purchase_1_pd[\"sum(Purchase)\"])  \n",
    "plt.title(\"Purchase Sum for Product Category 1\")  \n",
    "plt.xlabel(\"Product Category 1\")  \n",
    "plt.ylabel(\"Purchase Amount\")  \n",
    "  \n",
    "plt.subplot(3, 1, 2)  \n",
    "plt.bar(p_purchase_2_pd[\"Product_Category_2\"], p_purchase_2_pd[\"sum(Purchase)\"])  \n",
    "plt.title(\"Purchase Sum for Product Category 2\")  \n",
    "plt.xlabel(\"Product Category 2\")  \n",
    "plt.ylabel(\"Purchase Amount\")  \n",
    "  \n",
    "plt.subplot(3, 1, 3)   \n",
    "plt.bar(p_purchase_3_pd[\"Product_Category_3\"], p_purchase_3_pd[\"sum(Purchase)\"])  \n",
    "plt.title(\"Purchase Sum for Product Category 3\")  \n",
    "plt.xlabel(\"Product Category 3\")  \n",
    "plt.ylabel(\"Purchase Amount\")  \n",
    "    \n",
    "plt.tight_layout()   \n",
    "plt.show()"
   ]
  },
  {
   "cell_type": "code",
   "execution_count": 171,
   "id": "053e825c",
   "metadata": {},
   "outputs": [
    {
     "data": {
      "image/png": "[encoded data removed]",
      "text/plain": [
       "<Figure size 720x432 with 2 Axes>"
      ]
     },
     "metadata": {
      "needs_background": "light"
     },
     "output_type": "display_data"
    }
   ],
   "source": [
    "#The similarity between different product_category\n",
    "df_sample = df_filled.select(['Product_Category_1','Product_Category_2','Product_Category_3']).toPandas()   \n",
    "corr_matrix = df_sample.corr()  \n",
    "mask = np.triu(np.ones_like(corr_matrix))  \n",
    "  \n",
    "fig, ax = plt.subplots(figsize=(10, 6))  \n",
    "sns.heatmap(corr_matrix, annot=True, cmap=\"Reds\", vmin=-1, vmax=1, mask=mask)  \n",
    "plt.title('Correlation Among Product_Category', color='black', fontsize=18)  \n",
    "plt.show()"
   ]
  },
  {
   "cell_type": "markdown",
   "id": "1a0fe48c",
   "metadata": {},
   "source": [
    "#### Regression algorithm prediction of purchases"
   ]
  },
  {
   "cell_type": "code",
   "execution_count": 53,
   "id": "22520525",
   "metadata": {},
   "outputs": [
    {
     "name": "stdout",
     "output_type": "stream",
     "text": [
      "+------+----------+-------------+--------------------------+--------------+-----+------------------+----+--------+---------------+----------------------------+---+\n",
      "|Gender|Occupation|City_Category|Stay_In_Current_City_Years|Marital_Status|  Age| Purchase_Category|occu|Gender_n|City_Category_n|Stay_In_Current_City_Years_n|Cat|\n",
      "+------+----------+-------------+--------------------------+--------------+-----+------------------+----+--------+---------------+----------------------------+---+\n",
      "|     F|        10|            A|                         2|             0| 0-17|   Less Than 10000|12.0|     1.0|            2.0|                         1.0|0.0|\n",
      "|     F|        10|            A|                         2|             0| 0-17|Greater Than 15000|12.0|     1.0|            2.0|                         1.0|1.0|\n",
      "|     F|        10|            A|                         2|             0| 0-17|    Less Than 5000|12.0|     1.0|            2.0|                         1.0|2.0|\n",
      "|     F|        10|            A|                         2|             0| 0-17|    Less Than 5000|12.0|     1.0|            2.0|                         1.0|2.0|\n",
      "|     M|        16|            C|                        4+|             0|  55+|   Less Than 10000| 9.0|     0.0|            1.0|                         3.0|0.0|\n",
      "|     M|        15|            A|                         3|             0|26-35|Greater Than 15000|14.0|     0.0|            2.0|                         2.0|1.0|\n",
      "|     M|         7|            B|                         2|             1|46-50|Greater Than 15000| 2.0|     0.0|            0.0|                         1.0|1.0|\n",
      "|     M|         7|            B|                         2|             1|46-50|Greater Than 15000| 2.0|     0.0|            0.0|                         1.0|1.0|\n",
      "|     M|         7|            B|                         2|             1|46-50|Greater Than 15000| 2.0|     0.0|            0.0|                         1.0|1.0|\n",
      "|     M|        20|            A|                         1|             1|26-35|   Less Than 10000| 5.0|     0.0|            2.0|                         0.0|0.0|\n",
      "+------+----------+-------------+--------------------------+--------------+-----+------------------+----+--------+---------------+----------------------------+---+\n",
      "only showing top 10 rows\n",
      "\n"
     ]
    }
   ],
   "source": [
    "# Regression\n",
    "#occu_indexer = StringIndexer(inputCol=\"Occupation\", outputCol=\"occu\")\n",
    "gender_indexer = StringIndexer(inputCol=\"Gender\", outputCol=\"Gender_n\")  \n",
    "city_category_indexer = StringIndexer(inputCol=\"City_Category\", outputCol=\"City_Category_n\")  \n",
    "stay_years_indexer = StringIndexer(inputCol=\"Stay_In_Current_City_Years\", outputCol=\"Stay_In_Current_City_Years_n\") \n",
    " \n",
    "purchase_category_indexer = StringIndexer(inputCol=\"Purchase_Category\", outputCol=\"Cat\")\n",
    "    \n",
    "pipeline = Pipeline(stages=[gender_indexer, city_category_indexer, stay_years_indexer,purchase_category_indexer])  \n",
    "   \n",
    "df_tr = pipeline.fit(selected_df).transform(selected_df)    \n",
    "df_tr.show(10)"
   ]
  },
  {
   "cell_type": "code",
   "execution_count": 56,
   "id": "e33220fc",
   "metadata": {},
   "outputs": [
    {
     "name": "stdout",
     "output_type": "stream",
     "text": [
      "+--------------------+---+\n",
      "|            features|Cat|\n",
      "+--------------------+---+\n",
      "|[10.0,0.0,1.0,2.0...|0.0|\n",
      "|[10.0,0.0,1.0,2.0...|1.0|\n",
      "|[10.0,0.0,1.0,2.0...|2.0|\n",
      "|[10.0,0.0,1.0,2.0...|2.0|\n",
      "|[16.0,0.0,0.0,1.0...|0.0|\n",
      "+--------------------+---+\n",
      "only showing top 5 rows\n",
      "\n"
     ]
    }
   ],
   "source": [
    "assembler = VectorAssembler(inputCols=['Occupation','Marital_Status','Gender_n','City_Category_n','Stay_In_Current_City_Years_n'], outputCol=\"features\")  \n",
    "output = assembler.transform(df_tr).select(['features','Cat']) \n",
    "output.show(5)"
   ]
  },
  {
   "cell_type": "code",
   "execution_count": 89,
   "id": "c7ac815e",
   "metadata": {},
   "outputs": [
    {
     "name": "stdout",
     "output_type": "stream",
     "text": [
      "+--------------------+---+\n",
      "|        normFeatures|Cat|\n",
      "+--------------------+---+\n",
      "|[1.53311674268597...|0.0|\n",
      "|[1.53311674268597...|1.0|\n",
      "|[1.53311674268597...|2.0|\n",
      "|[1.53311674268597...|2.0|\n",
      "|[2.45298678829755...|0.0|\n",
      "+--------------------+---+\n",
      "only showing top 5 rows\n",
      "\n"
     ]
    }
   ],
   "source": [
    "#Normalize\n",
    "normaliser = StandardScaler(inputCol=\"features\", outputCol=\"normFeatures\")\n",
    "normModel = normaliser.fit(output)\n",
    "norm = normModel.transform(output)\n",
    "features_norm = station_norm.select([\"normFeatures\", \"Cat\"])\n",
    "features_norm.show(5)"
   ]
  },
  {
   "cell_type": "code",
   "execution_count": 138,
   "id": "9af2c8f7",
   "metadata": {},
   "outputs": [],
   "source": [
    "#Separate the dateset into training set and testset\n",
    "training_data, test_data = features_norm.randomSplit([0.7, 0.3],seed=15) "
   ]
  },
  {
   "cell_type": "code",
   "execution_count": 87,
   "id": "ee24d4b1",
   "metadata": {},
   "outputs": [],
   "source": [
    "# a. Linear Regressor  \n",
    "lr = LinearRegression(featuresCol=\"normFeatures\", labelCol=\"Cat\")  \n",
    "lr_model = lr.fit(training_data)  \n",
    "  \n",
    "# b. Decision Tree Regressor  \n",
    "dt = DecisionTreeRegressor(featuresCol=\"normFeatures\", labelCol=\"Cat\")  \n",
    "dt_model = dt.fit(training_data)  \n",
    "  \n",
    "# c. Random Forest Regressor  \n",
    "rf = RandomForestRegressor(featuresCol=\"normFeatures\", labelCol=\"Cat\")  \n",
    "rf_model = rf.fit(training_data)  "
   ]
  },
  {
   "cell_type": "code",
   "execution_count": 92,
   "id": "5c6f0ecd",
   "metadata": {},
   "outputs": [],
   "source": [
    "# Prediction \n",
    "lr_predictions = lr_model.transform(test_data)  \n",
    "dt_predictions = dt_model.transform(test_data)  \n",
    "rf_predictions = rf_model.transform(test_data) "
   ]
  },
  {
   "cell_type": "code",
   "execution_count": 93,
   "id": "8238b657",
   "metadata": {},
   "outputs": [
    {
     "name": "stdout",
     "output_type": "stream",
     "text": [
      "Linear Regression RMSE: 1.1811895413500302\n",
      "Decision Tree Regression RMSE: 1.1805117689097198\n",
      "Random Forest Regression RMSE: 1.1805408212279798\n"
     ]
    }
   ],
   "source": [
    "# Evaluate \n",
    "evaluator = RegressionEvaluator(  \n",
    "    labelCol=\"Cat\",   \n",
    "    predictionCol=\"prediction\",   \n",
    "    metricName=\"rmse\"    \n",
    ")  \n",
    "  \n",
    "# Evaluate for LinearRegression \n",
    "lr_rmse = evaluator.evaluate(lr_predictions)  \n",
    "print(f\"Linear Regression RMSE: {lr_rmse}\")  \n",
    "  \n",
    "# Evaluate for DecisionTreeRegression \n",
    "dt_rmse = evaluator.evaluate(dt_predictions)  \n",
    "print(f\"Decision Tree Regression RMSE: {dt_rmse}\")  \n",
    "  \n",
    "# Evaluate RandomTreeRegression \n",
    "rf_rmse = evaluator.evaluate(rf_predictions)  \n",
    "print(f\"Random Forest Regression RMSE: {rf_rmse}\")  "
   ]
  },
  {
   "cell_type": "markdown",
   "id": "4bc1c16a",
   "metadata": {},
   "source": [
    "The Root Mean Squared Error (RMSE) is a measure of the standard deviation of prediction errors. It provides an indication of how spread out the residuals are from the mean prediction error. A lower RMSE value indicates better predictive performance, as it means the predictions are closer to the actual observed values.\n",
    "\n",
    "The RMSE values suggest that the performance of all three models is quite similar. The Decision Tree and Random Forest Regression models have slightly lower RMSE values than Linear Regression, but the differences are minimal and may not translate into significant practical differences."
   ]
  },
  {
   "cell_type": "code",
   "execution_count": 182,
   "id": "bcebc5e9",
   "metadata": {},
   "outputs": [],
   "source": [
    "spark.stop()"
   ]
  },
  {
   "cell_type": "code",
   "execution_count": null,
   "id": "3f771728",
   "metadata": {},
   "outputs": [],
   "source": []
  }
 ],
 "metadata": {
  "kernelspec": {
   "display_name": "Python 3",
   "language": "python",
   "name": "python3"
  },
  "language_info": {
   "codemirror_mode": {
    "name": "ipython",
    "version": 3
   },
   "file_extension": ".py",
   "mimetype": "text/x-python",
   "name": "python",
   "nbconvert_exporter": "python",
   "pygments_lexer": "ipython3",
   "version": "3.8.8"
  }
 },
 "nbformat": 4,
 "nbformat_minor": 5
}
